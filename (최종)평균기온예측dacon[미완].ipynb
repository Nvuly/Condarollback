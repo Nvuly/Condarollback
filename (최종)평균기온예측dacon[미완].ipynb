{
 "cells": [
  {
   "cell_type": "markdown",
   "id": "a6010fff",
   "metadata": {},
   "source": [
    "### 임폴트 및 주석"
   ]
  },
  {
   "cell_type": "code",
   "execution_count": 7,
   "id": "79667bed",
   "metadata": {},
   "outputs": [],
   "source": [
    "#---------------------\n",
    "import numpy as np\n",
    "import pandas as pd\n",
    "import requests\n",
    "from bs4 import BeautifulSoup\n",
    "import matplotlib.pyplot as plt\n",
    "import seaborn as sns\n",
    "from sklearn.model_selection import GridSearchCV\n",
    "from sklearn.model_selection import train_test_split\n",
    "#---------------------------------\n",
    "from sklearn.metrics import f1_score, precision_score, recall_score, accuracy_score\n",
    "#--------------------------------\n",
    "#ARIMA\n",
    "from statsmodels.tsa.arima.model import ARIMA\n",
    "#-------------------------------\n",
    "## 각 컬럼명은 따로 폰트 설치가 필요하기에\n",
    "## 영문으로 다 변경하였습니다.\n",
    "\n",
    "## 이하 변경된 컬럼명의 풀네임입니다.\n",
    "# datetime : 일시\n",
    "# 'tht', #the highest temperature 최고기온\n",
    "# 'tlt', #the lowest temperature 최저기온\n",
    "# 'dtr', #daily temperature range 일교차 \n",
    "# 'ah', #Average humidity 평균습도\n",
    "# 'aws', #average wind speed 평균풍속\n",
    "# 'at', #average temperature 평균기온\n",
    "# 'aop', #amount of precipitation 강수량\n",
    "# 'ilzohap', # 일조합\n",
    "# 'ilsahap', # 일사합\n",
    "# 'ilzoyul, # 일조율\n",
    "# 'at', # 평균기온(정답컬럼)"
   ]
  },
  {
   "cell_type": "markdown",
   "id": "5df651c6",
   "metadata": {},
   "source": [
    "## 파일 불러오기"
   ]
  },
  {
   "cell_type": "code",
   "execution_count": 8,
   "id": "c39d3080",
   "metadata": {},
   "outputs": [
    {
     "name": "stdout",
     "output_type": "stream",
     "text": [
      "********************************************************************************\n",
      "********************************************************************************\n",
      "               일시  최고기온  최저기온   일교차  강수량  평균습도  평균풍속  일조합    일사합   일조율  평균기온\n",
      "0      1960-01-01   2.2  -5.2   7.4  NaN  68.3   1.7  6.7    NaN   NaN  -1.6\n",
      "1      1960-01-02   1.2  -5.6   6.8  0.4  87.7   1.3  0.0    NaN   NaN  -1.9\n",
      "2      1960-01-03   8.7  -2.1  10.8  0.0  81.3   3.0  0.0    NaN   NaN   4.0\n",
      "3      1960-01-04  10.8   1.2   9.6  0.0  79.7   4.4  2.6    NaN   NaN   7.5\n",
      "4      1960-01-05   1.3  -8.2   9.5  NaN  44.0   5.1  8.2    NaN   NaN  -4.6\n",
      "...           ...   ...   ...   ...  ...   ...   ...  ...    ...   ...   ...\n",
      "23006  2022-12-27   3.3  -7.3  10.6  NaN  69.8   1.8  8.8  10.25  91.7  -2.6\n",
      "23007  2022-12-28   0.1  -6.0   6.1  0.1  58.1   2.5  8.7  10.86  90.6  -3.3\n",
      "23008  2022-12-29   2.1  -7.8   9.9  0.0  56.3   1.7  9.0  10.88  93.8  -2.9\n",
      "23009  2022-12-30   2.3  -4.4   6.7  0.0  65.6   1.9  7.9  10.84  82.3  -1.8\n",
      "23010  2022-12-31   2.1  -5.1   7.2  0.0  65.5   1.4  1.1   4.16  11.5  -1.2\n",
      "\n",
      "[23011 rows x 11 columns]\n",
      "********************************************************************************\n",
      "             일시  평균기온\n",
      "0    2023-01-01     0\n",
      "1    2023-01-02     0\n",
      "2    2023-01-03     0\n",
      "3    2023-01-04     0\n",
      "4    2023-01-05     0\n",
      "..          ...   ...\n",
      "353  2023-12-20     0\n",
      "354  2023-12-21     0\n",
      "355  2023-12-22     0\n",
      "356  2023-12-23     0\n",
      "357  2023-12-24     0\n",
      "\n",
      "[358 rows x 2 columns]\n",
      "********************************************************************************\n"
     ]
    }
   ],
   "source": [
    "\n",
    "train_path = 'D:\\Code\\DataSets/train.csv' \n",
    "submission_path = 'D:\\Code\\DataSets/sample_submission.csv' \n",
    "\n",
    "print('*'*80)\n",
    "\n",
    "df_train = pd.read_csv(train_path)\n",
    "df_submission = pd.read_csv(submission_path)\n",
    "\n",
    "print('*'*80)\n",
    "\n",
    "print(df_train)\n",
    "\n",
    "print('*'*80)\n",
    "\n",
    "print(df_submission)\n",
    "\n",
    "print('*'*80)\n",
    "\n",
    "# isnull().sum()\n",
    "# outlier(이상치제거)\n",
    "\n",
    "# 관계 분석\n",
    "# 모델링 (머신러닝)\n",
    "# XGBosst Lightgbm \n",
    "# 분류의 Classifier . DecisionTreeClassfier"
   ]
  },
  {
   "cell_type": "markdown",
   "id": "245de4e8",
   "metadata": {},
   "source": [
    "## 파일 속성 확인"
   ]
  },
  {
   "cell_type": "code",
   "execution_count": 9,
   "id": "26d505a7",
   "metadata": {},
   "outputs": [
    {
     "name": "stdout",
     "output_type": "stream",
     "text": [
      "<class 'pandas.core.frame.DataFrame'>\n",
      "RangeIndex: 23011 entries, 0 to 23010\n",
      "Data columns (total 11 columns):\n",
      " #   Column  Non-Null Count  Dtype  \n",
      "---  ------  --------------  -----  \n",
      " 0   일시      23011 non-null  object \n",
      " 1   최고기온    23008 non-null  float64\n",
      " 2   최저기온    23008 non-null  float64\n",
      " 3   일교차     23007 non-null  float64\n",
      " 4   강수량     9150 non-null   float64\n",
      " 5   평균습도    23011 non-null  float64\n",
      " 6   평균풍속    23007 non-null  float64\n",
      " 7   일조합     22893 non-null  float64\n",
      " 8   일사합     18149 non-null  float64\n",
      " 9   일조율     22645 non-null  float64\n",
      " 10  평균기온    23011 non-null  float64\n",
      "dtypes: float64(10), object(1)\n",
      "memory usage: 1.9+ MB\n"
     ]
    }
   ],
   "source": [
    "df_train.info() # 자료형 변환해야 하는 컬럼 구분법..?\n",
    "                # 일시컬럼이 의미를 가지는지..? 어떤의미...?\n"
   ]
  },
  {
   "cell_type": "code",
   "execution_count": 10,
   "id": "fe605879",
   "metadata": {},
   "outputs": [
    {
     "name": "stdout",
     "output_type": "stream",
     "text": [
      "<class 'pandas.core.frame.DataFrame'>\n",
      "RangeIndex: 358 entries, 0 to 357\n",
      "Data columns (total 2 columns):\n",
      " #   Column  Non-Null Count  Dtype \n",
      "---  ------  --------------  ----- \n",
      " 0   일시      358 non-null    object\n",
      " 1   평균기온    358 non-null    int64 \n",
      "dtypes: int64(1), object(1)\n",
      "memory usage: 5.7+ KB\n"
     ]
    }
   ],
   "source": [
    "df_submission.info()"
   ]
  },
  {
   "cell_type": "markdown",
   "id": "09eecd8f",
   "metadata": {},
   "source": [
    "### 누락 데이터 제거 및 필요 없는 컬럼 제거"
   ]
  },
  {
   "cell_type": "code",
   "execution_count": 11,
   "id": "454c629a",
   "metadata": {},
   "outputs": [
    {
     "name": "stdout",
     "output_type": "stream",
     "text": [
      "학습용 데이터의 누락데이터 값 : \n",
      "일시          0\n",
      "최고기온        3\n",
      "최저기온        3\n",
      "일교차         4\n",
      "강수량     13861\n",
      "평균습도        0\n",
      "평균풍속        4\n",
      "일조합       118\n",
      "일사합      4862\n",
      "일조율       366\n",
      "평균기온        0\n",
      "dtype: int64\n",
      "********************************************************************************\n",
      "제출 양식의 누락 데이터 값 : \n",
      "일시      0\n",
      "평균기온    0\n",
      "dtype: int64\n",
      "********************************************************************************\n",
      "학습용 데이터의 컬럼 : \n",
      "Index(['일시', '최고기온', '최저기온', '일교차', '강수량', '평균습도', '평균풍속', '일조합', '일사합', '일조율',\n",
      "       '평균기온'],\n",
      "      dtype='object')\n",
      "제출 양식 파일의 컬럼 : \n",
      "Index(['일시', '평균기온'], dtype='object')\n"
     ]
    }
   ],
   "source": [
    "n_nulls1 = df_train.isnull().sum()\n",
    "print(f'학습용 데이터의 누락데이터 값 : \\n{n_nulls1}')\n",
    "\n",
    "print('*'*80)\n",
    "\n",
    "n_nulls2 = df_submission.isnull().sum()\n",
    "print(f'제출 양식의 누락 데이터 값 : \\n{n_nulls2}')\n",
    "\n",
    "print('*'*80)\n",
    "\n",
    "columns1=df_train.columns\n",
    "\n",
    "print(f'학습용 데이터의 컬럼 : \\n{columns1}')\n",
    "\n",
    "columns2=df_submission.columns\n",
    "\n",
    "print(f'제출 양식 파일의 컬럼 : \\n{columns2}')\n",
    "\n",
    "# 평균 기온 : 정답 컬럼.\n",
    "\n",
    "\n",
    "\n"
   ]
  },
  {
   "cell_type": "markdown",
   "id": "453e4306",
   "metadata": {},
   "source": [
    "### 한글컬럼을 영문컬럼으로 변환"
   ]
  },
  {
   "cell_type": "code",
   "execution_count": 12,
   "id": "9d5ae382",
   "metadata": {},
   "outputs": [
    {
     "name": "stdout",
     "output_type": "stream",
     "text": [
      "Index(['일시', '최고기온', '최저기온', '일교차', '강수량', '평균습도', '평균풍속', '일조합', '일사합', '일조율',\n",
      "       '평균기온'],\n",
      "      dtype='object')\n",
      "********************************************************************************\n",
      "Index(['datetime', 'tht', 'tlt', 'dtr', 'aop', 'ah', 'aws', 'ilzohap',\n",
      "       'ilsahap', 'ilzoyul', 'at'],\n",
      "      dtype='object')\n"
     ]
    }
   ],
   "source": [
    "### 강수량, 일사환, 일조합, 일조율 4개 컬럼 영문 컬럼으로 변환\n",
    "\n",
    "columns = df_train.columns\n",
    "\n",
    "print(columns)\n",
    "\n",
    "print('*'*80)\n",
    "\n",
    "df_train.columns=['datetime','tht','tlt','dtr','aop', 'ah', 'aws', 'ilzohap', 'ilsahap', 'ilzoyul', 'at']\n",
    "\n",
    "print(df_train.columns)\n"
   ]
  },
  {
   "cell_type": "code",
   "execution_count": 14,
   "id": "6e8d6d9d",
   "metadata": {},
   "outputs": [
    {
     "name": "stdout",
     "output_type": "stream",
     "text": [
      "         datetime   tht  tlt   dtr    ah  aws   at\n",
      "0      1960-01-01   2.2 -5.2   7.4  68.3  1.7 -1.6\n",
      "1      1960-01-02   1.2 -5.6   6.8  87.7  1.3 -1.9\n",
      "2      1960-01-03   8.7 -2.1  10.8  81.3  3.0  4.0\n",
      "3      1960-01-04  10.8  1.2   9.6  79.7  4.4  7.5\n",
      "4      1960-01-05   1.3 -8.2   9.5  44.0  5.1 -4.6\n",
      "...           ...   ...  ...   ...   ...  ...  ...\n",
      "23006  2022-12-27   3.3 -7.3  10.6  69.8  1.8 -2.6\n",
      "23007  2022-12-28   0.1 -6.0   6.1  58.1  2.5 -3.3\n",
      "23008  2022-12-29   2.1 -7.8   9.9  56.3  1.7 -2.9\n",
      "23009  2022-12-30   2.3 -4.4   6.7  65.6  1.9 -1.8\n",
      "23010  2022-12-31   2.1 -5.1   7.2  65.5  1.4 -1.2\n",
      "\n",
      "[23011 rows x 7 columns]\n"
     ]
    }
   ],
   "source": [
    "# 강수량, 일사합, 일조합, 일조율 Drop\n",
    "\n",
    "cleaned_df = df_train.drop(columns=['aop','ilzohap','ilsahap','ilzoyul'])\n",
    "\n",
    "print(cleaned_df)"
   ]
  },
  {
   "cell_type": "code",
   "execution_count": 15,
   "id": "514f4979",
   "metadata": {},
   "outputs": [
    {
     "name": "stdout",
     "output_type": "stream",
     "text": [
      "********************************************************************************\n",
      "         datetime   tht  tlt   dtr    ah  aws   at\n",
      "0      1960-01-01   2.2 -5.2   7.4  68.3  1.7 -1.6\n",
      "1      1960-01-02   1.2 -5.6   6.8  87.7  1.3 -1.9\n",
      "2      1960-01-03   8.7 -2.1  10.8  81.3  3.0  4.0\n",
      "3      1960-01-04  10.8  1.2   9.6  79.7  4.4  7.5\n",
      "4      1960-01-05   1.3 -8.2   9.5  44.0  5.1 -4.6\n",
      "...           ...   ...  ...   ...   ...  ...  ...\n",
      "23006  2022-12-27   3.3 -7.3  10.6  69.8  1.8 -2.6\n",
      "23007  2022-12-28   0.1 -6.0   6.1  58.1  2.5 -3.3\n",
      "23008  2022-12-29   2.1 -7.8   9.9  56.3  1.7 -2.9\n",
      "23009  2022-12-30   2.3 -4.4   6.7  65.6  1.9 -1.8\n",
      "23010  2022-12-31   2.1 -5.1   7.2  65.5  1.4 -1.2\n",
      "\n",
      "[23011 rows x 7 columns]\n"
     ]
    }
   ],
   "source": [
    "cleaned_df.columns = ['datetime',\n",
    "                      'tht', #the highest temperature 최고기온\n",
    "                      'tlt', #the lowest temperature 최저기온\n",
    "                      'dtr', #daily temperature range 일교차\n",
    "                      'ah', #Average humidity 평균습도\n",
    "                      'aws', #average wind speed 평균풍속\n",
    "                      'at', #average temperature 평균기온\n",
    "]\n",
    "\n",
    "print('*'*80)\n",
    "\n",
    "print(cleaned_df)"
   ]
  },
  {
   "cell_type": "markdown",
   "id": "554b44a9",
   "metadata": {},
   "source": [
    "### NaN값 처리"
   ]
  },
  {
   "cell_type": "code",
   "execution_count": 16,
   "id": "774f342d",
   "metadata": {},
   "outputs": [
    {
     "name": "stdout",
     "output_type": "stream",
     "text": [
      "         datetime   tht  tlt   dtr    ah  aws   at\n",
      "0      1960-01-01   2.2 -5.2   7.4  68.3  1.7 -1.6\n",
      "1      1960-01-02   1.2 -5.6   6.8  87.7  1.3 -1.9\n",
      "2      1960-01-03   8.7 -2.1  10.8  81.3  3.0  4.0\n",
      "3      1960-01-04  10.8  1.2   9.6  79.7  4.4  7.5\n",
      "4      1960-01-05   1.3 -8.2   9.5  44.0  5.1 -4.6\n",
      "...           ...   ...  ...   ...   ...  ...  ...\n",
      "23006  2022-12-27   3.3 -7.3  10.6  69.8  1.8 -2.6\n",
      "23007  2022-12-28   0.1 -6.0   6.1  58.1  2.5 -3.3\n",
      "23008  2022-12-29   2.1 -7.8   9.9  56.3  1.7 -2.9\n",
      "23009  2022-12-30   2.3 -4.4   6.7  65.6  1.9 -1.8\n",
      "23010  2022-12-31   2.1 -5.1   7.2  65.5  1.4 -1.2\n",
      "\n",
      "[23003 rows x 7 columns]\n"
     ]
    },
    {
     "data": {
      "text/plain": [
       "datetime    0\n",
       "tht         0\n",
       "tlt         0\n",
       "dtr         0\n",
       "ah          0\n",
       "aws         0\n",
       "at          0\n",
       "dtype: int64"
      ]
     },
     "execution_count": 16,
     "metadata": {},
     "output_type": "execute_result"
    }
   ],
   "source": [
    "cleaned_df.isnull().sum()\n",
    "\n",
    "# Deleting NaN using dropna(subset)\n",
    "\n",
    "cleaned_df.dropna(subset=['tht','tlt','dtr','aws'], inplace=True)\n",
    "\n",
    "print(cleaned_df)\n",
    "\n",
    "cleaned_df.isnull().sum()"
   ]
  },
  {
   "cell_type": "markdown",
   "id": "7457b0b0",
   "metadata": {},
   "source": [
    "### 행 인덱스 재설정"
   ]
  },
  {
   "cell_type": "code",
   "execution_count": 17,
   "id": "5ae93781",
   "metadata": {
    "tags": [
     "질문",
     "좀 이상한거..?"
    ]
   },
   "outputs": [
    {
     "name": "stdout",
     "output_type": "stream",
     "text": [
      "         datetime   tht  tlt   dtr    ah  aws   at\n",
      "0      1960-01-01   2.2 -5.2   7.4  68.3  1.7 -1.6\n",
      "1      1960-01-02   1.2 -5.6   6.8  87.7  1.3 -1.9\n",
      "2      1960-01-03   8.7 -2.1  10.8  81.3  3.0  4.0\n",
      "3      1960-01-04  10.8  1.2   9.6  79.7  4.4  7.5\n",
      "4      1960-01-05   1.3 -8.2   9.5  44.0  5.1 -4.6\n",
      "...           ...   ...  ...   ...   ...  ...  ...\n",
      "22998  2022-12-27   3.3 -7.3  10.6  69.8  1.8 -2.6\n",
      "22999  2022-12-28   0.1 -6.0   6.1  58.1  2.5 -3.3\n",
      "23000  2022-12-29   2.1 -7.8   9.9  56.3  1.7 -2.9\n",
      "23001  2022-12-30   2.3 -4.4   6.7  65.6  1.9 -1.8\n",
      "23002  2022-12-31   2.1 -5.1   7.2  65.5  1.4 -1.2\n",
      "\n",
      "[23003 rows x 7 columns]\n"
     ]
    }
   ],
   "source": [
    "cleaned_df.reset_index(drop=True, inplace=True)\n",
    "\n",
    "print(cleaned_df)"
   ]
  },
  {
   "cell_type": "markdown",
   "id": "5464cd70",
   "metadata": {},
   "source": [
    "### 데이터프레임의 Outlier 이상치 확인\n"
   ]
  },
  {
   "cell_type": "code",
   "execution_count": 18,
   "id": "78ef064b",
   "metadata": {},
   "outputs": [
    {
     "data": {
      "image/png": "[encoded data removed]",
      "text/plain": [
       "<Figure size 640x480 with 1 Axes>"
      ]
     },
     "metadata": {},
     "output_type": "display_data"
    }
   ],
   "source": [
    "cleaned_df.loc[:, ['tht','tlt','dtr','ah','aws','at']].plot(kind='box',\n",
    "                                                                        rot=45)\n",
    "plt.show()"
   ]
  },
  {
   "cell_type": "code",
   "execution_count": 19,
   "id": "d0d340d3",
   "metadata": {},
   "outputs": [
    {
     "data": {
      "image/png": "[encoded data removed]",
      "text/plain": [
       "<Figure size 640x480 with 1 Axes>"
      ]
     },
     "metadata": {},
     "output_type": "display_data"
    }
   ],
   "source": [
    "### tht(최고기온) 컬럼의 이상치의 존재 유무 개별 확인\n",
    "\n",
    "cleaned_df.loc[:,'tht'].plot(kind='box', rot=45)\n",
    "plt.show()\n",
    "\n",
    "#이상치 없음"
   ]
  },
  {
   "cell_type": "code",
   "execution_count": 20,
   "id": "bb5ed5ed",
   "metadata": {},
   "outputs": [
    {
     "data": {
      "image/png": "[encoded data removed]",
      "text/plain": [
       "<Figure size 640x480 with 1 Axes>"
      ]
     },
     "metadata": {},
     "output_type": "display_data"
    }
   ],
   "source": [
    "### tlt(최저기온) 컬럼의 이상치 존재 유무 확인\n",
    "cleaned_df.loc[:, 'tlt'].plot(kind='box', rot=45)\n",
    "plt.show()\n",
    "# 이상치 없음"
   ]
  },
  {
   "cell_type": "code",
   "execution_count": 21,
   "id": "0aed4b74",
   "metadata": {},
   "outputs": [
    {
     "data": {
      "image/png": "[encoded data removed]",
      "text/plain": [
       "<Figure size 640x480 with 1 Axes>"
      ]
     },
     "metadata": {},
     "output_type": "display_data"
    }
   ],
   "source": [
    "### dtr(일교차) 컬럼의 이상치 존재 유무 확인\n",
    "\n",
    "cleaned_df.loc[:,'dtr'].plot(kind='box', rot=45)\n",
    "plt.show() \n",
    "\n",
    "# 이상치 존재."
   ]
  },
  {
   "cell_type": "code",
   "execution_count": 22,
   "id": "cf064317",
   "metadata": {},
   "outputs": [
    {
     "name": "stdout",
     "output_type": "stream",
     "text": [
      "IQR의 값 : 4.0\n",
      "********************************************************************************\n",
      "제1사분위값 : 6.6\n",
      "********************************************************************************\n",
      "제3사분위값 : 10.6\n",
      "********************************************************************************\n",
      "정상 범위의 최솟값 : 0.5999999999999996\n",
      "********************************************************************************\n",
      "정상 범위의 최댓값 : 16.6\n",
      "********************************************************************************\n",
      "********************************************************************************\n",
      " dtr 컬럼의 첫번째 이상치 :          datetime   tht   tlt   dtr    ah  aws    at\n",
      "99     1960-04-09  20.4   2.7  17.7  46.7  1.5  12.2\n",
      "113    1960-04-23  25.3   8.0  17.3  54.3  1.7  15.9\n",
      "120    1960-04-30  24.0   6.8  17.2  56.7  1.9  15.5\n",
      "122    1960-05-02  26.0   6.4  19.6  45.0  1.6  17.1\n",
      "462    1961-04-07  18.4   1.4  17.0  53.5  3.8   9.7\n",
      "487    1961-05-02  21.2   4.2  17.0  60.0  2.3  13.4\n",
      "821    1962-04-01  17.8   0.2  17.6  47.5  1.7   9.9\n",
      "1760   1964-10-26  18.5   1.8  16.7  51.0  0.9  10.0\n",
      "2295   1966-04-14  24.6   6.0  18.6  39.8  2.1  15.6\n",
      "2335   1966-05-24  29.3  11.5  17.8  39.8  1.6  20.8\n",
      "2336   1966-05-25  31.6  14.6  17.0  43.5  1.5  22.6\n",
      "2687   1967-05-12  28.5  11.5  17.0  72.8  2.1  19.1\n",
      "3055   1968-05-14  26.4   9.6  16.8  58.0  2.4  17.6\n",
      "3398   1969-04-22  23.3   6.3  17.0  66.5  2.0  15.2\n",
      "4112   1971-04-06  20.0   2.4  17.6  49.5  1.4  10.9\n",
      "4843   1973-04-06  18.5   1.6  16.9  51.8  2.9  10.0\n",
      "4867   1973-04-30  27.7  10.3  17.4  58.5  1.9  19.0\n",
      "5224   1974-04-23  20.2   3.1  17.1  50.3  2.1  12.1\n",
      "5605   1975-05-09  26.3   9.6  16.7  55.3  2.3  18.1\n",
      "5953   1976-04-21  25.0   8.0  17.0  57.3  2.0  16.3\n",
      "5981   1976-05-19  28.4  10.7  17.7  54.5  1.8  19.8\n",
      "6021   1976-06-28  34.8  17.7  17.1  43.5  1.0  26.2\n",
      "6283   1977-03-17  22.0   4.2  17.8  49.3  2.2  12.0\n",
      "6301   1977-04-04  20.2   3.0  17.2  41.8  2.1  11.4\n",
      "6335   1977-05-08  25.9   8.0  17.9  61.5  2.0  15.9\n",
      "7739   1981-03-12  17.2   0.1  17.1  45.0  1.4   8.4\n",
      "7740   1981-03-13  21.7   4.3  17.4  52.0  1.9  12.3\n",
      "7765   1981-04-07  23.2   5.8  17.4  58.3  1.2  14.3\n",
      "8506   1983-04-18  23.2   6.3  16.9  40.3  2.1  15.0\n",
      "8916   1984-06-02  32.4  15.4  17.0  54.3  2.1  23.7\n",
      "9231   1985-04-13  24.3   5.2  19.1  27.5  2.6  14.4\n",
      "9257   1985-05-09  27.3  10.5  16.8  64.0  1.9  19.1\n",
      "9264   1985-05-16  29.6  12.7  16.9  46.8  1.8  21.8\n",
      "9630   1986-05-17  25.6   8.8  16.8  61.5  1.7  17.4\n",
      "9953   1987-04-05  24.7   7.1  17.6  55.0  1.5  15.9\n",
      "11055  1990-04-11  26.3   8.9  17.4  37.0  1.8  18.4\n",
      "11444  1991-05-05  24.7   7.5  17.2  41.0  1.7  16.1\n",
      "12190  1993-05-20  29.8  13.0  16.8  59.8  2.0  21.0\n",
      "12510  1994-04-05  27.4   8.8  18.6  33.3  1.2  18.1\n",
      "12555  1994-05-20  26.8  10.0  16.8  40.0  2.0  18.1\n",
      "12912  1995-05-12  24.9   7.5  17.4  32.3  1.1  17.0\n",
      "13512  1997-01-01   8.0  -9.9  17.9  71.1  6.5  -1.2\n",
      "16144  2004-03-17  16.3  -1.0  17.3  65.9  4.4   4.9\n",
      "19423  2013-03-09  23.8   6.2  17.6  48.8  4.3  13.2\n",
      "20021  2014-10-28  19.4   2.7  16.7  43.4  1.4  10.2\n",
      "20160  2015-03-16  18.6   1.3  17.3  44.4  2.0   9.8\n",
      "20193  2015-04-18  23.7   5.2  18.5  31.9  1.9  15.2\n",
      "20232  2015-05-27  31.5  14.4  17.1  32.9  2.0  23.2\n",
      "20246  2015-06-10  34.9  17.6  17.3  54.3  2.2  25.3\n",
      "20567  2016-04-26  29.6  12.1  17.5  34.8  2.0  21.1\n",
      "20576  2016-05-05  26.9  10.2  16.7  50.8  1.7  18.9\n",
      "20886  2017-03-11  16.7  -0.2  16.9  37.4  1.8   7.3\n",
      "21292  2018-04-25  23.3   5.7  17.6  37.8  1.5  14.6\n",
      "21654  2019-04-22  28.2  10.7  17.5  50.6  1.4  19.3\n",
      "21686  2019-05-24  33.4  16.2  17.2  46.4  1.7  24.2\n",
      "22363  2021-03-31  22.9   5.9  17.0  41.0  1.8  14.5\n",
      "22384  2021-04-21  28.2  10.3  17.9  43.1  1.8  19.1\n",
      " dtr 컬럼의 첫번째 이상치 데이터의 인덱스 : Index([   99,   113,   120,   122,   462,   487,   821,  1760,  2295,  2335,\n",
      "        2336,  2687,  3055,  3398,  4112,  4843,  4867,  5224,  5605,  5953,\n",
      "        5981,  6021,  6283,  6301,  6335,  7739,  7740,  7765,  8506,  8916,\n",
      "        9231,  9257,  9264,  9630,  9953, 11055, 11444, 12190, 12510, 12555,\n",
      "       12912, 13512, 16144, 19423, 20021, 20160, 20193, 20232, 20246, 20567,\n",
      "       20576, 20886, 21292, 21654, 21686, 22363, 22384],\n",
      "      dtype='int64')\n",
      "첫번째 이상치의 인덱스 개수 : \n",
      "57\n",
      "********************************************************************************\n",
      " 첫번째 이상치를 제거한 결과 : \n",
      "0         7.4\n",
      "1         6.8\n",
      "2        10.8\n",
      "3         9.6\n",
      "4         9.5\n",
      "         ... \n",
      "22998    10.6\n",
      "22999     6.1\n",
      "23000     9.9\n",
      "23001     6.7\n",
      "23002     7.2\n",
      "Name: dtr, Length: 22946, dtype: float64\n"
     ]
    }
   ],
   "source": [
    "# dtr(일교차) 컬럼의 첫번째 이상치 제거.\n",
    "\n",
    "'''\n",
    "1. IQR = Q3- Q1\n",
    "2. 정상 범위의 취소 : Q1 - (IQR*1.5)\n",
    "3. 정상 범위의 최대 : Q3 + (IQR*1.5)\n",
    "'''\n",
    "\n",
    "Q1 = cleaned_df.loc[:,'dtr'].quantile(q=0.25)\n",
    "\n",
    "Q3 = cleaned_df.loc[:,'dtr'].quantile(q=0.75)\n",
    "\n",
    "IQR = Q3 -Q1\n",
    "\n",
    "print(f'IQR의 값 : {IQR}')\n",
    "\n",
    "print('*'*80)\n",
    "\n",
    "print(f'제1사분위값 : {Q1}')\n",
    "\n",
    "print('*'*80)\n",
    "\n",
    "print(f'제3사분위값 : {Q3}')\n",
    "\n",
    "print('*'*80)\n",
    "\n",
    "MIN = Q1 - (IQR * 1.5 ) \n",
    "\n",
    "print(f'정상 범위의 최솟값 : {MIN}')\n",
    "print('*'*80)\n",
    "\n",
    "MAX = Q3 + (IQR * 1.5 )\n",
    "\n",
    "print(f'정상 범위의 최댓값 : {MAX}')\n",
    "\n",
    "print('*'*80)\n",
    "\n",
    "condition1 = (cleaned_df.loc[:,'dtr']<MIN) | (cleaned_df.loc[:,'dtr']>MAX)\n",
    "\n",
    "print('*'*80)\n",
    "\n",
    "Outlier = cleaned_df.loc[condition1]\n",
    "print(f' dtr 컬럼의 첫번째 이상치 : {Outlier}')\n",
    "\n",
    "Outlier_index = cleaned_df.loc[condition1].index\n",
    "print(f' dtr 컬럼의 첫번째 이상치 데이터의 인덱스 : {Outlier_index}')   \n",
    "\n",
    "n_Outlier_index = len(Outlier_index)\n",
    "\n",
    "print(f'첫번째 이상치의 인덱스 개수 : \\n{n_Outlier_index}')\n",
    "\n",
    "print('*'*80)\n",
    "\n",
    "#-----------------------------------------------------\n",
    "\n",
    "cleaned_dtr = cleaned_df.loc[:,'dtr'].drop(index=Outlier_index)\n",
    "print(f' 첫번째 이상치를 제거한 결과 : \\n{cleaned_dtr}')\n",
    "\n",
    "# 여기서 인덱스넘버가 맞지 않는데 이건 다른 이상치가 있는 컬럼마저 전부 다 제거해놓고 pd.concat해서\n",
    "# 합병까지 한 후에 나중에 reset_index하면 됨!"
   ]
  },
  {
   "cell_type": "code",
   "execution_count": 23,
   "id": "30c40941",
   "metadata": {},
   "outputs": [
    {
     "data": {
      "image/png": "[encoded data removed]",
      "text/plain": [
       "<Figure size 640x480 with 1 Axes>"
      ]
     },
     "metadata": {},
     "output_type": "display_data"
    }
   ],
   "source": [
    "### dtr(일교차) 컬럼의 두번째 이상치 추출 및 제거\n",
    "\n",
    "'''\n",
    "1. IQR = Q3- Q1\n",
    "2. 정상 범위의 취소 : Q1 - (IQR*1.5)\n",
    "3. 정상 범위의 최대 : Q3 + (IQR*1.5)\n",
    "'''\n",
    "\n",
    "cleaned_dtr.plot(kind='box', rot=45)\n",
    "plt.show()\n",
    "\n",
    "# 이상치가 깔끔하게 제거됐음."
   ]
  },
  {
   "cell_type": "code",
   "execution_count": 24,
   "id": "0c261566",
   "metadata": {},
   "outputs": [
    {
     "name": "stdout",
     "output_type": "stream",
     "text": [
      "IQR의 값 : 20.9\n",
      "********************************************************************************\n",
      "제1사분위값 : 54.9\n",
      "********************************************************************************\n",
      "제3사분위값 : 75.8\n",
      "********************************************************************************\n",
      "정상 범위의 최솟값 : 23.55\n",
      "********************************************************************************\n",
      "정상 범위의 최댓값 : 107.14999999999999\n",
      "********************************************************************************\n",
      "********************************************************************************\n",
      " ah 컬럼의 첫번째 이상치 :          datetime   tht   tlt   dtr    ah  aws    at\n",
      "13175  1996-01-30  -3.0  -9.1   6.1  20.8  4.3  -6.2\n",
      "13191  1996-02-15   5.8  -4.0   9.8  20.8  4.5   1.2\n",
      "13193  1996-02-17   3.2  -6.2   9.4  22.3  3.3  -2.0\n",
      "13246  1996-04-10  12.2   4.2   8.0  19.0  4.3   7.6\n",
      "16557  2005-05-04  27.7  12.6  15.1  21.1  1.8  20.1\n",
      "17608  2008-03-20  17.9   5.2  12.7  19.9  2.7  11.6\n",
      "17640  2008-04-21  23.5  17.1   6.4  23.5  2.3  19.7\n",
      "19018  2012-01-29   1.6  -5.5   7.1  23.4  2.8  -2.8\n",
      "19019  2012-01-30  -0.8  -8.8   8.0  22.4  2.8  -5.6\n",
      "19050  2012-03-01  14.6   4.0  10.6  20.1  1.9   8.7\n",
      "20918  2017-04-12  16.4   8.8   7.6  21.8  3.7  11.5\n",
      "21280  2018-04-13  19.3   8.3  11.0  22.9  1.3  14.6\n",
      "21995  2020-03-28  12.8   4.5   8.3  17.9  3.2   7.7\n",
      " ah 컬럼의 첫번째 이상치 데이터의 인덱스 : Index([13175, 13191, 13193, 13246, 16557, 17608, 17640, 19018, 19019, 19050,\n",
      "       20918, 21280, 21995],\n",
      "      dtype='int64')\n",
      "첫번째 이상치의 인덱스 개수 : \n",
      "13\n",
      "********************************************************************************\n",
      " 첫번째 이상치를 제거한 결과 : \n",
      "0        68.3\n",
      "1        87.7\n",
      "2        81.3\n",
      "3        79.7\n",
      "4        44.0\n",
      "         ... \n",
      "22998    69.8\n",
      "22999    58.1\n",
      "23000    56.3\n",
      "23001    65.6\n",
      "23002    65.5\n",
      "Name: ah, Length: 22990, dtype: float64\n"
     ]
    }
   ],
   "source": [
    "### ah(평균습도) 컬럼의 첫번째 이상치 추출 및 제거\n",
    "\n",
    "'''\n",
    "1. IQR = Q3- Q1\n",
    "2. 정상 범위의 취소 : Q1 - (IQR*1.5)\n",
    "3. 정상 범위의 최대 : Q3 + (IQR*1.5)\n",
    "'''\n",
    "\n",
    "Q1 = cleaned_df.loc[:,'ah'].quantile(q=0.25)\n",
    "\n",
    "Q3 = cleaned_df.loc[:,'ah'].quantile(q=0.75)\n",
    "\n",
    "IQR = Q3 -Q1\n",
    "\n",
    "print(f'IQR의 값 : {IQR}')\n",
    "\n",
    "print('*'*80)\n",
    "\n",
    "print(f'제1사분위값 : {Q1}')\n",
    "\n",
    "print('*'*80)\n",
    "\n",
    "print(f'제3사분위값 : {Q3}')\n",
    "\n",
    "print('*'*80)\n",
    "\n",
    "MIN = Q1 - (IQR * 1.5 ) \n",
    "\n",
    "print(f'정상 범위의 최솟값 : {MIN}')\n",
    "print('*'*80)\n",
    "\n",
    "MAX = Q3 + (IQR * 1.5 )\n",
    "\n",
    "print(f'정상 범위의 최댓값 : {MAX}')\n",
    "\n",
    "print('*'*80)\n",
    "\n",
    "condition1 = (cleaned_df.loc[:,'ah']<MIN) | (cleaned_df.loc[:,'ah']>MAX)\n",
    "\n",
    "print('*'*80)\n",
    "\n",
    "Outlier = cleaned_df.loc[condition1]\n",
    "print(f' ah 컬럼의 첫번째 이상치 : {Outlier}')\n",
    "\n",
    "Outlier_index = cleaned_df.loc[condition1].index\n",
    "print(f' ah 컬럼의 첫번째 이상치 데이터의 인덱스 : {Outlier_index}')   \n",
    "\n",
    "n_Outlier_index = len(Outlier_index)\n",
    "\n",
    "print(f'첫번째 이상치의 인덱스 개수 : \\n{n_Outlier_index}')\n",
    "\n",
    "print('*'*80)\n",
    "\n",
    "#-----------------------------------------------------\n",
    "\n",
    "cleaned_ah = cleaned_df.loc[:,'ah'].drop(index=Outlier_index)\n",
    "print(f' 첫번째 이상치를 제거한 결과 : \\n{cleaned_ah}')"
   ]
  },
  {
   "cell_type": "code",
   "execution_count": 25,
   "id": "45578ad2",
   "metadata": {},
   "outputs": [
    {
     "data": {
      "image/png": "[encoded data removed]",
      "text/plain": [
       "<Figure size 640x480 with 1 Axes>"
      ]
     },
     "metadata": {},
     "output_type": "display_data"
    }
   ],
   "source": [
    "### ah(평균습도) 컬럼의 두번째 이상치 추출 및 제거\n",
    "\n",
    "'''\n",
    "1. IQR = Q3- Q1\n",
    "2. 정상 범위의 취소 : Q1 - (IQR*1.5)\n",
    "3. 정상 범위의 최대 : Q3 + (IQR*1.5)\n",
    "'''\n",
    "\n",
    "cleaned_ah.plot(kind='box', rot=45)\n",
    "plt.show()\n",
    "\n",
    "# 이상치 제거 완료. "
   ]
  },
  {
   "cell_type": "code",
   "execution_count": 26,
   "id": "a6bd8be5",
   "metadata": {},
   "outputs": [
    {
     "name": "stdout",
     "output_type": "stream",
     "text": [
      "IQR의 값 : 1.2\n",
      "********************************************************************************\n",
      "제1사분위값 : 1.7\n",
      "********************************************************************************\n",
      "제3사분위값 : 2.9\n",
      "********************************************************************************\n",
      "정상 범위의 최솟값 : -0.09999999999999987\n",
      "********************************************************************************\n",
      "정상 범위의 최댓값 : 4.699999999999999\n",
      "********************************************************************************\n",
      "********************************************************************************\n",
      " 평균풍속 컬럼의 첫번째 이상치 :          datetime   tht   tlt   dtr    ah  aws    at\n",
      "4      1960-01-05   1.3  -8.2   9.5  44.0  5.1  -4.6\n",
      "71     1960-03-12   7.8  -4.1  11.9  54.7  5.8   1.5\n",
      "87     1960-03-28  16.3   3.6  12.7  62.0  5.1  11.0\n",
      "106    1960-04-16  12.7   4.7   8.0  52.3  6.2   8.3\n",
      "177    1960-06-26  25.2  18.8   6.4  89.0  4.8  20.0\n",
      "...           ...   ...   ...   ...   ...  ...   ...\n",
      "21986  2020-03-19  12.1   5.8   6.3  49.0  4.8   9.1\n",
      "22154  2020-09-03  25.6  20.0   5.6  82.0  4.8  22.7\n",
      "22321  2021-02-17  -5.2 -10.4   5.2  44.1  5.0  -8.3\n",
      "22817  2022-06-28  27.9  25.7   2.2  81.9  5.8  26.9\n",
      "22864  2022-08-15  29.8  26.6   3.2  83.0  4.8  28.1\n",
      "\n",
      "[626 rows x 7 columns]\n",
      " 평균풍속 컬럼의 첫번째 이상치 데이터의 인덱스 : Index([    4,    71,    87,   106,   177,   179,   209,   235,   327,   330,\n",
      "       ...\n",
      "       20469, 20558, 20574, 20575, 21792, 21986, 22154, 22321, 22817, 22864],\n",
      "      dtype='int64', length=626)\n",
      "첫번째 이상치의 인덱스 개수 : \n",
      "626\n",
      "********************************************************************************\n",
      " 첫번째 이상치를 제거한 결과 : \n",
      "0        1.7\n",
      "1        1.3\n",
      "2        3.0\n",
      "3        4.4\n",
      "5        1.8\n",
      "        ... \n",
      "22998    1.8\n",
      "22999    2.5\n",
      "23000    1.7\n",
      "23001    1.9\n",
      "23002    1.4\n",
      "Name: aws, Length: 22377, dtype: float64\n"
     ]
    }
   ],
   "source": [
    "### aws(평균풍속) 컬럼의 첫번째 이상치 추출 및 제거\n",
    "\n",
    "'''\n",
    "1. IQR = Q3- Q1\n",
    "2. 정상 범위의 취소 : Q1 - (IQR*1.5)\n",
    "3. 정상 범위의 최대 : Q3 + (IQR*1.5)\n",
    "'''\n",
    "\n",
    "Q1 = cleaned_df.loc[:,'aws'].quantile(q=0.25)\n",
    "\n",
    "Q3 = cleaned_df.loc[:,'aws'].quantile(q=0.75)\n",
    "\n",
    "IQR = Q3 -Q1\n",
    "\n",
    "print(f'IQR의 값 : {IQR}')\n",
    "\n",
    "print('*'*80)\n",
    "\n",
    "print(f'제1사분위값 : {Q1}')\n",
    "\n",
    "print('*'*80)\n",
    "\n",
    "print(f'제3사분위값 : {Q3}')\n",
    "\n",
    "print('*'*80)\n",
    "\n",
    "MIN = Q1 - (IQR * 1.5 ) \n",
    "\n",
    "print(f'정상 범위의 최솟값 : {MIN}')\n",
    "print('*'*80)\n",
    "\n",
    "MAX = Q3 + (IQR * 1.5 )\n",
    "\n",
    "print(f'정상 범위의 최댓값 : {MAX}')\n",
    "\n",
    "print('*'*80)\n",
    "\n",
    "condition1 = (cleaned_df.loc[:,'aws']<MIN) | (cleaned_df.loc[:,'aws']>MAX)\n",
    "\n",
    "print('*'*80)\n",
    "\n",
    "Outlier = cleaned_df.loc[condition1]\n",
    "print(f' 평균풍속 컬럼의 첫번째 이상치 : {Outlier}')\n",
    "\n",
    "Outlier_index = cleaned_df.loc[condition1].index\n",
    "print(f' 평균풍속 컬럼의 첫번째 이상치 데이터의 인덱스 : {Outlier_index}')   \n",
    "\n",
    "n_Outlier_index = len(Outlier_index)\n",
    "\n",
    "print(f'첫번째 이상치의 인덱스 개수 : \\n{n_Outlier_index}')\n",
    "\n",
    "print('*'*80)\n",
    "\n",
    "#-----------------------------------------------------\n",
    "\n",
    "cleaned_aws1 = cleaned_df.loc[:,'aws'].drop(index=Outlier_index)\n",
    "print(f' 첫번째 이상치를 제거한 결과 : \\n{cleaned_aws1}')"
   ]
  },
  {
   "cell_type": "code",
   "execution_count": 27,
   "id": "57195664",
   "metadata": {},
   "outputs": [
    {
     "data": {
      "image/png": "[encoded data removed]",
      "text/plain": [
       "<Figure size 640x480 with 1 Axes>"
      ]
     },
     "metadata": {},
     "output_type": "display_data"
    },
    {
     "name": "stdout",
     "output_type": "stream",
     "text": [
      "IQR의 값 : 1.0999999999999999\n",
      "********************************************************************************\n",
      "제1사분위값 : 1.7\n",
      "********************************************************************************\n",
      "제3사분위값 : 2.8\n",
      "********************************************************************************\n",
      "정상 범위의 최솟값 : 0.050000000000000044\n",
      "********************************************************************************\n",
      "정상 범위의 최댓값 : 4.449999999999999\n",
      "********************************************************************************\n",
      "********************************************************************************\n",
      " 평균풍속 컬럼의 두번째 이상치 : 80       4.5\n",
      "132      4.6\n",
      "691      4.5\n",
      "772      4.5\n",
      "1149     4.6\n",
      "        ... \n",
      "20495    4.6\n",
      "21934    4.6\n",
      "22113    4.6\n",
      "22624    4.6\n",
      "22894    4.6\n",
      "Name: aws, Length: 204, dtype: float64\n",
      " 평균풍속 컬럼의 두번째 이상치 데이터의 인덱스 : Index([   80,   132,   691,   772,  1149,  1185,  1407,  1424,  1447,  1881,\n",
      "       ...\n",
      "       19941, 20056, 20086, 20155, 20301, 20495, 21934, 22113, 22624, 22894],\n",
      "      dtype='int64', length=204)\n",
      "첫번째 이상치의 인덱스 개수 : \n",
      "204\n",
      "********************************************************************************\n",
      " 첫번째 이상치를 제거한 결과 : \n",
      "0        1.7\n",
      "1        1.3\n",
      "2        3.0\n",
      "3        4.4\n",
      "5        1.8\n",
      "        ... \n",
      "22998    1.8\n",
      "22999    2.5\n",
      "23000    1.7\n",
      "23001    1.9\n",
      "23002    1.4\n",
      "Name: aws, Length: 22173, dtype: float64\n"
     ]
    }
   ],
   "source": [
    "### aws(평균풍속) 컬럼의 두번째 이상치 추출 및 제거\n",
    "\n",
    "'''\n",
    "1. IQR = Q3- Q1\n",
    "2. 정상 범위의 취소 : Q1 - (IQR*1.5)\n",
    "3. 정상 범위의 최대 : Q3 + (IQR*1.5)\n",
    "'''\n",
    "\n",
    "cleaned_aws1.plot(kind='box', rot=45)\n",
    "plt.show()\n",
    "# 아직도 이상치가 존재\n",
    "\n",
    "Q1 = cleaned_aws1.quantile(q=0.25)\n",
    "\n",
    "Q3 = cleaned_aws1.quantile(q=0.75)\n",
    "\n",
    "IQR = Q3 -Q1\n",
    "\n",
    "print(f'IQR의 값 : {IQR}')\n",
    "\n",
    "print('*'*80)\n",
    "\n",
    "print(f'제1사분위값 : {Q1}')\n",
    "\n",
    "print('*'*80)\n",
    "\n",
    "print(f'제3사분위값 : {Q3}')\n",
    "\n",
    "print('*'*80)\n",
    "\n",
    "MIN = Q1 - (IQR * 1.5 ) \n",
    "\n",
    "print(f'정상 범위의 최솟값 : {MIN}')\n",
    "print('*'*80)\n",
    "\n",
    "MAX = Q3 + (IQR * 1.5 )\n",
    "\n",
    "print(f'정상 범위의 최댓값 : {MAX}')\n",
    "\n",
    "print('*'*80)\n",
    "\n",
    "condition2 = (cleaned_aws1<MIN) | (cleaned_aws1>MAX)\n",
    "\n",
    "print('*'*80)\n",
    "\n",
    "Outlier = cleaned_aws1[condition2]\n",
    "print(f' 평균풍속 컬럼의 두번째 이상치 : {Outlier}')\n",
    "\n",
    "Outlier_index = cleaned_aws1[condition2].index\n",
    "print(f' 평균풍속 컬럼의 두번째 이상치 데이터의 인덱스 : {Outlier_index}')   \n",
    "\n",
    "n_Outlier_index = len(Outlier_index)\n",
    "\n",
    "print(f'첫번째 이상치의 인덱스 개수 : \\n{n_Outlier_index}')\n",
    "\n",
    "print('*'*80)\n",
    "\n",
    "#-----------------------------------------------------\n",
    "\n",
    "cleaned_aws2 = cleaned_aws1.drop(index=Outlier_index)\n",
    "print(f' 첫번째 이상치를 제거한 결과 : \\n{cleaned_aws2}')"
   ]
  },
  {
   "cell_type": "code",
   "execution_count": 28,
   "id": "969ccef9",
   "metadata": {},
   "outputs": [
    {
     "data": {
      "image/png": "[encoded data removed]",
      "text/plain": [
       "<Figure size 640x480 with 1 Axes>"
      ]
     },
     "metadata": {},
     "output_type": "display_data"
    }
   ],
   "source": [
    "### aws(평균풍속) 컬럼의 세번째 이상치 추출 및 제거\n",
    "\n",
    "'''\n",
    "1. IQR = Q3- Q1\n",
    "2. 정상 범위의 취소 : Q1 - (IQR*1.5)\n",
    "3. 정상 범위의 최대 : Q3 + (IQR*1.5)\n",
    "'''\n",
    "\n",
    "cleaned_aws2.plot(kind='box', rot=45)\n",
    "plt.show()\n",
    "# 이상치 존재x"
   ]
  },
  {
   "cell_type": "markdown",
   "id": "fd0f3c45",
   "metadata": {},
   "source": [
    "### 컬럼 병합"
   ]
  },
  {
   "cell_type": "code",
   "execution_count": 29,
   "id": "7213c5f6",
   "metadata": {},
   "outputs": [
    {
     "name": "stdout",
     "output_type": "stream",
     "text": [
      "Index(['datetime', 'tht', 'tlt', 'dtr', 'ah', 'aws', 'at'], dtype='object')\n",
      "********************************************************************************\n",
      "********************************************************************************\n",
      "         datetime   tht  tlt   dtr    ah  aws   at\n",
      "0      1960-01-01   2.2 -5.2   7.4  68.3  1.7 -1.6\n",
      "1      1960-01-02   1.2 -5.6   6.8  87.7  1.3 -1.9\n",
      "2      1960-01-03   8.7 -2.1  10.8  81.3  3.0  4.0\n",
      "3      1960-01-04  10.8  1.2   9.6  79.7  4.4  7.5\n",
      "5      1960-01-06  -1.2 -9.5   8.3  51.3  1.8 -5.2\n",
      "...           ...   ...  ...   ...   ...  ...  ...\n",
      "22998  2022-12-27   3.3 -7.3  10.6  69.8  1.8 -2.6\n",
      "22999  2022-12-28   0.1 -6.0   6.1  58.1  2.5 -3.3\n",
      "23000  2022-12-29   2.1 -7.8   9.9  56.3  1.7 -2.9\n",
      "23001  2022-12-30   2.3 -4.4   6.7  65.6  1.9 -1.8\n",
      "23002  2022-12-31   2.1 -5.1   7.2  65.5  1.4 -1.2\n",
      "\n",
      "[22105 rows x 7 columns]\n",
      "********************************************************************************\n",
      "         datetime   tht  tlt   dtr    ah  aws   at\n",
      "0      1960-01-01   2.2 -5.2   7.4  68.3  1.7 -1.6\n",
      "1      1960-01-02   1.2 -5.6   6.8  87.7  1.3 -1.9\n",
      "2      1960-01-03   8.7 -2.1  10.8  81.3  3.0  4.0\n",
      "3      1960-01-04  10.8  1.2   9.6  79.7  4.4  7.5\n",
      "4      1960-01-06  -1.2 -9.5   8.3  51.3  1.8 -5.2\n",
      "...           ...   ...  ...   ...   ...  ...  ...\n",
      "22100  2022-12-27   3.3 -7.3  10.6  69.8  1.8 -2.6\n",
      "22101  2022-12-28   0.1 -6.0   6.1  58.1  2.5 -3.3\n",
      "22102  2022-12-29   2.1 -7.8   9.9  56.3  1.7 -2.9\n",
      "22103  2022-12-30   2.3 -4.4   6.7  65.6  1.9 -1.8\n",
      "22104  2022-12-31   2.1 -5.1   7.2  65.5  1.4 -1.2\n",
      "\n",
      "[22105 rows x 7 columns]\n"
     ]
    },
    {
     "data": {
      "text/plain": [
       "datetime    0\n",
       "tht         0\n",
       "tlt         0\n",
       "dtr         0\n",
       "ah          0\n",
       "aws         0\n",
       "at          0\n",
       "dtype: int64"
      ]
     },
     "execution_count": 29,
     "metadata": {},
     "output_type": "execute_result"
    }
   ],
   "source": [
    "print(cleaned_df.columns)\n",
    "\n",
    "print('*'*80)\n",
    "print('*'*80)\n",
    "\n",
    "data = [cleaned_df.loc[:,'datetime'],\n",
    "        cleaned_df.loc[:,'tht'],\n",
    "        cleaned_df.loc[:,'tlt'],\n",
    "        cleaned_dtr,\n",
    "        cleaned_ah,\n",
    "        cleaned_aws2,\n",
    "        cleaned_df.loc[:,'at']]\n",
    "df_concat = pd.concat(data,\n",
    "                      axis=1,\n",
    "                      join='inner')\n",
    "\n",
    "print(df_concat)\n",
    "\n",
    "print('*'*80)\n",
    "\n",
    "# 인덱스 넘버안맞아서 reset_index로 재설정까지.\n",
    "\n",
    "df_concat.reset_index(drop=True, inplace=True)\n",
    "print(df_concat)\n",
    "\n",
    "df_concat.isnull().sum()"
   ]
  },
  {
   "cell_type": "markdown",
   "id": "4127ca30",
   "metadata": {},
   "source": [
    "### 전처리 후 일시컬럼을 datetime으로 변환"
   ]
  },
  {
   "cell_type": "code",
   "execution_count": 30,
   "id": "ea15fd78",
   "metadata": {},
   "outputs": [
    {
     "name": "stdout",
     "output_type": "stream",
     "text": [
      "<class 'pandas.core.frame.DataFrame'>\n",
      "RangeIndex: 22105 entries, 0 to 22104\n",
      "Data columns (total 7 columns):\n",
      " #   Column    Non-Null Count  Dtype  \n",
      "---  ------    --------------  -----  \n",
      " 0   datetime  22105 non-null  object \n",
      " 1   tht       22105 non-null  float64\n",
      " 2   tlt       22105 non-null  float64\n",
      " 3   dtr       22105 non-null  float64\n",
      " 4   ah        22105 non-null  float64\n",
      " 5   aws       22105 non-null  float64\n",
      " 6   at        22105 non-null  float64\n",
      "dtypes: float64(6), object(1)\n",
      "memory usage: 1.2+ MB\n",
      "********************************************************************************\n",
      "********************************************************************************\n",
      "        datetime   tht  tlt   dtr    ah  aws   at\n",
      "0     1960-01-01   2.2 -5.2   7.4  68.3  1.7 -1.6\n",
      "1     1960-01-02   1.2 -5.6   6.8  87.7  1.3 -1.9\n",
      "2     1960-01-03   8.7 -2.1  10.8  81.3  3.0  4.0\n",
      "3     1960-01-04  10.8  1.2   9.6  79.7  4.4  7.5\n",
      "4     1960-01-06  -1.2 -9.5   8.3  51.3  1.8 -5.2\n",
      "...          ...   ...  ...   ...   ...  ...  ...\n",
      "22100 2022-12-27   3.3 -7.3  10.6  69.8  1.8 -2.6\n",
      "22101 2022-12-28   0.1 -6.0   6.1  58.1  2.5 -3.3\n",
      "22102 2022-12-29   2.1 -7.8   9.9  56.3  1.7 -2.9\n",
      "22103 2022-12-30   2.3 -4.4   6.7  65.6  1.9 -1.8\n",
      "22104 2022-12-31   2.1 -5.1   7.2  65.5  1.4 -1.2\n",
      "\n",
      "[22105 rows x 7 columns]\n",
      "********************************************************************************\n",
      "<class 'pandas.core.frame.DataFrame'>\n",
      "RangeIndex: 22105 entries, 0 to 22104\n",
      "Data columns (total 7 columns):\n",
      " #   Column    Non-Null Count  Dtype         \n",
      "---  ------    --------------  -----         \n",
      " 0   datetime  22105 non-null  datetime64[ns]\n",
      " 1   tht       22105 non-null  float64       \n",
      " 2   tlt       22105 non-null  float64       \n",
      " 3   dtr       22105 non-null  float64       \n",
      " 4   ah        22105 non-null  float64       \n",
      " 5   aws       22105 non-null  float64       \n",
      " 6   at        22105 non-null  float64       \n",
      "dtypes: datetime64[ns](1), float64(6)\n",
      "memory usage: 1.2 MB\n"
     ]
    }
   ],
   "source": [
    "# cleaned_df의 일시 컬럼을 datetime으로 변환 후 인덱스로 지정\n",
    "\n",
    "df_concat.info()\n",
    "\n",
    "print('*'*80)\n",
    "\n",
    "df_concat['datetime'] = pd.to_datetime(df_concat['datetime'])\n",
    "\n",
    "print('*'*80)\n",
    "\n",
    "print(df_concat)\n",
    "\n",
    "print('*'*80)\n",
    "\n",
    "df_concat.info()"
   ]
  },
  {
   "cell_type": "markdown",
   "id": "20511778",
   "metadata": {},
   "source": [
    "## ACF와 PACF 플롯을 통한 p, q 추정"
   ]
  },
  {
   "cell_type": "code",
   "execution_count": 31,
   "id": "7dce4e3a",
   "metadata": {},
   "outputs": [],
   "source": [
    "from statsmodels.graphics.tsaplots import plot_acf, plot_pacf\n",
    "from statsmodels.tsa.stattools import adfuller\n",
    "\n",
    "import matplotlib.pyplot as plt"
   ]
  },
  {
   "cell_type": "code",
   "execution_count": 32,
   "id": "ce5d97ad",
   "metadata": {},
   "outputs": [
    {
     "data": {
      "image/png": "[encoded data removed]",
      "text/plain": [
       "<Figure size 640x480 with 1 Axes>"
      ]
     },
     "metadata": {},
     "output_type": "display_data"
    },
    {
     "data": {
      "image/png": "[encoded data removed]",
      "text/plain": [
       "<Figure size 640x480 with 1 Axes>"
      ]
     },
     "metadata": {},
     "output_type": "display_data"
    }
   ],
   "source": [
    "# ACF 플롯 \n",
    "plot_acf(df_concat['at'], lags=40)\n",
    "plt.show()\n",
    "\n",
    "# PACF 플롯\n",
    "plot_pacf(df_concat['at'], lags=40)\n",
    "plt.show()"
   ]
  },
  {
   "cell_type": "markdown",
   "id": "a689c551",
   "metadata": {},
   "source": [
    "## ADF 검정을 통해 차분 차수 d 결정"
   ]
  },
  {
   "cell_type": "code",
   "execution_count": 33,
   "id": "591d0122",
   "metadata": {},
   "outputs": [
    {
     "name": "stdout",
     "output_type": "stream",
     "text": [
      "ADF 통계 : -17.150909677709066\n",
      "p값: 6.943386741709465e-30\n"
     ]
    }
   ],
   "source": [
    "# ADF 테스트 수행\n",
    "adf_result = adfuller(df_concat['at'])\n",
    "print(f'ADF 통계 : {adf_result[0]}')\n",
    "print(f'p값: {adf_result[1]}')"
   ]
  },
  {
   "cell_type": "markdown",
   "id": "6417dafa",
   "metadata": {},
   "source": [
    "### df_concat(학습용데이터) 결과 저장"
   ]
  },
  {
   "cell_type": "code",
   "execution_count": 34,
   "id": "84a2f675",
   "metadata": {},
   "outputs": [
    {
     "name": "stdout",
     "output_type": "stream",
     "text": [
      "학습용 데이터 확인 : \n",
      "        datetime   tht  tlt   dtr    ah  aws   at\n",
      "0     1960-01-01   2.2 -5.2   7.4  68.3  1.7 -1.6\n",
      "1     1960-01-02   1.2 -5.6   6.8  87.7  1.3 -1.9\n",
      "2     1960-01-03   8.7 -2.1  10.8  81.3  3.0  4.0\n",
      "3     1960-01-04  10.8  1.2   9.6  79.7  4.4  7.5\n",
      "4     1960-01-06  -1.2 -9.5   8.3  51.3  1.8 -5.2\n",
      "...          ...   ...  ...   ...   ...  ...  ...\n",
      "22100 2022-12-27   3.3 -7.3  10.6  69.8  1.8 -2.6\n",
      "22101 2022-12-28   0.1 -6.0   6.1  58.1  2.5 -3.3\n",
      "22102 2022-12-29   2.1 -7.8   9.9  56.3  1.7 -2.9\n",
      "22103 2022-12-30   2.3 -4.4   6.7  65.6  1.9 -1.8\n",
      "22104 2022-12-31   2.1 -5.1   7.2  65.5  1.4 -1.2\n",
      "\n",
      "[22105 rows x 7 columns]\n",
      "********************************************************************************\n"
     ]
    }
   ],
   "source": [
    "print(f'학습용 데이터 확인 : \\n{df_concat}')\n",
    "\n",
    "print('*'*80)"
   ]
  },
  {
   "cell_type": "markdown",
   "id": "fb28395e",
   "metadata": {},
   "source": [
    "## ARIMA Model "
   ]
  },
  {
   "cell_type": "markdown",
   "id": "85515b94",
   "metadata": {},
   "source": [
    "### Model Generation"
   ]
  },
  {
   "cell_type": "code",
   "execution_count": 35,
   "id": "09347ba2",
   "metadata": {},
   "outputs": [],
   "source": [
    "# ARIMA 모델 훈련\n",
    "model = ARIMA(df_concat['at'], order=(2, 1, 6))  # p, d, q 값은 조정 필요\n",
    "model_fit = model.fit()"
   ]
  },
  {
   "cell_type": "code",
   "execution_count": 36,
   "id": "e72a319e",
   "metadata": {},
   "outputs": [
    {
     "name": "stdout",
     "output_type": "stream",
     "text": [
      "<class 'pandas.core.frame.DataFrame'>\n",
      "RangeIndex: 22105 entries, 0 to 22104\n",
      "Data columns (total 7 columns):\n",
      " #   Column    Non-Null Count  Dtype         \n",
      "---  ------    --------------  -----         \n",
      " 0   datetime  22105 non-null  datetime64[ns]\n",
      " 1   tht       22105 non-null  float64       \n",
      " 2   tlt       22105 non-null  float64       \n",
      " 3   dtr       22105 non-null  float64       \n",
      " 4   ah        22105 non-null  float64       \n",
      " 5   aws       22105 non-null  float64       \n",
      " 6   at        22105 non-null  float64       \n",
      "dtypes: datetime64[ns](1), float64(6)\n",
      "memory usage: 1.2 MB\n",
      "********************************************************************************\n",
      "        datetime   tht  tlt   dtr    ah  aws   at\n",
      "0     1960-01-01   2.2 -5.2   7.4  68.3  1.7 -1.6\n",
      "1     1960-01-02   1.2 -5.6   6.8  87.7  1.3 -1.9\n",
      "2     1960-01-03   8.7 -2.1  10.8  81.3  3.0  4.0\n",
      "3     1960-01-04  10.8  1.2   9.6  79.7  4.4  7.5\n",
      "4     1960-01-06  -1.2 -9.5   8.3  51.3  1.8 -5.2\n",
      "...          ...   ...  ...   ...   ...  ...  ...\n",
      "22100 2022-12-27   3.3 -7.3  10.6  69.8  1.8 -2.6\n",
      "22101 2022-12-28   0.1 -6.0   6.1  58.1  2.5 -3.3\n",
      "22102 2022-12-29   2.1 -7.8   9.9  56.3  1.7 -2.9\n",
      "22103 2022-12-30   2.3 -4.4   6.7  65.6  1.9 -1.8\n",
      "22104 2022-12-31   2.1 -5.1   7.2  65.5  1.4 -1.2\n",
      "\n",
      "[22105 rows x 7 columns]\n",
      "<class 'pandas.core.frame.DataFrame'>\n",
      "RangeIndex: 358 entries, 0 to 357\n",
      "Data columns (total 2 columns):\n",
      " #   Column  Non-Null Count  Dtype \n",
      "---  ------  --------------  ----- \n",
      " 0   일시      358 non-null    object\n",
      " 1   평균기온    358 non-null    int64 \n",
      "dtypes: int64(1), object(1)\n",
      "memory usage: 5.7+ KB\n",
      "             일시  평균기온\n",
      "0    2023-01-01     0\n",
      "1    2023-01-02     0\n",
      "2    2023-01-03     0\n",
      "3    2023-01-04     0\n",
      "4    2023-01-05     0\n",
      "..          ...   ...\n",
      "353  2023-12-20     0\n",
      "354  2023-12-21     0\n",
      "355  2023-12-22     0\n",
      "356  2023-12-23     0\n",
      "357  2023-12-24     0\n",
      "\n",
      "[358 rows x 2 columns]\n"
     ]
    }
   ],
   "source": [
    "df_concat.info()\n",
    "\n",
    "print('*'*80)\n",
    "\n",
    "print(df_concat)\n",
    "\n",
    "df_submission.info()\n",
    "\n",
    "print(df_submission)"
   ]
  },
  {
   "cell_type": "markdown",
   "id": "d4b45a47",
   "metadata": {},
   "source": [
    "### Model Prediction"
   ]
  },
  {
   "cell_type": "code",
   "execution_count": 37,
   "id": "60e1a7ca",
   "metadata": {},
   "outputs": [],
   "source": [
    "df_submission['일시'] = pd.to_datetime(df_submission['일시'])\n",
    "\n",
    "# # 예측할 기간 설정\n",
    "# start_date = df_submission['일시'].min()\n",
    "# end_date = df_submission['일시'].max()\n",
    "\n",
    "# # ARIMA 모델을 사용하여 예측\n",
    "# forecast = model_fit.predict(start=start_date, end=end_date, typ='levels')\n",
    "\n",
    "# 예측할 기간 설정\n",
    "start_date = df_concat.index.min()  # 학습용 데이터의 인덱스 최솟값 사용\n",
    "end_date = df_concat.index.max()  # 학습용 데이터의 인덱스 최댓값 사용\n",
    "\n",
    "# ARIMA 모델을 사용하여 예측\n",
    "forecast = model_fit.predict(start=start_date, end=end_date, typ='levels')"
   ]
  },
  {
   "cell_type": "markdown",
   "id": "a3506424",
   "metadata": {},
   "source": [
    "### 예측 결과 저장"
   ]
  },
  {
   "cell_type": "code",
   "execution_count": 38,
   "id": "f0a6c9f9",
   "metadata": {},
   "outputs": [
    {
     "data": {
      "text/html": [
       "<div>\n",
       "<style scoped>\n",
       "    .dataframe tbody tr th:only-of-type {\n",
       "        vertical-align: middle;\n",
       "    }\n",
       "\n",
       "    .dataframe tbody tr th {\n",
       "        vertical-align: top;\n",
       "    }\n",
       "\n",
       "    .dataframe thead th {\n",
       "        text-align: right;\n",
       "    }\n",
       "</style>\n",
       "<table border=\"1\" class=\"dataframe\">\n",
       "  <thead>\n",
       "    <tr style=\"text-align: right;\">\n",
       "      <th></th>\n",
       "      <th>일시</th>\n",
       "      <th>평균기온</th>\n",
       "    </tr>\n",
       "  </thead>\n",
       "  <tbody>\n",
       "    <tr>\n",
       "      <th>0</th>\n",
       "      <td>2023-01-01</td>\n",
       "      <td>0.000000</td>\n",
       "    </tr>\n",
       "    <tr>\n",
       "      <th>1</th>\n",
       "      <td>2023-01-02</td>\n",
       "      <td>-1.600000</td>\n",
       "    </tr>\n",
       "    <tr>\n",
       "      <th>2</th>\n",
       "      <td>2023-01-03</td>\n",
       "      <td>-1.896989</td>\n",
       "    </tr>\n",
       "    <tr>\n",
       "      <th>3</th>\n",
       "      <td>2023-01-04</td>\n",
       "      <td>3.996581</td>\n",
       "    </tr>\n",
       "    <tr>\n",
       "      <th>4</th>\n",
       "      <td>2023-01-05</td>\n",
       "      <td>6.011513</td>\n",
       "    </tr>\n",
       "  </tbody>\n",
       "</table>\n",
       "</div>"
      ],
      "text/plain": [
       "          일시      평균기온\n",
       "0 2023-01-01  0.000000\n",
       "1 2023-01-02 -1.600000\n",
       "2 2023-01-03 -1.896989\n",
       "3 2023-01-04  3.996581\n",
       "4 2023-01-05  6.011513"
      ]
     },
     "metadata": {},
     "output_type": "display_data"
    }
   ],
   "source": [
    "\n",
    "forecast_values = forecast.values\n",
    "\n",
    "# 제출용 데이터프레임에 예측 결과 할당\n",
    "df_submission['평균기온'] = forecast_values[:df_submission.shape[0]]\n",
    "\n",
    "display(df_submission.head())\n",
    "\n",
    "# 예측 결과 저장\n",
    "df_submission.to_csv('./df_concat_submit6.csv', index=False)\n",
    "\n"
   ]
  },
  {
   "cell_type": "code",
   "execution_count": null,
   "id": "07784c3d",
   "metadata": {},
   "outputs": [],
   "source": []
  }
 ],
 "metadata": {
  "kernelspec": {
   "display_name": "NvulyTarget",
   "language": "python",
   "name": "conda"
  },
  "language_info": {
   "codemirror_mode": {
    "name": "ipython",
    "version": 3
   },
   "file_extension": ".py",
   "mimetype": "text/x-python",
   "name": "python",
   "nbconvert_exporter": "python",
   "pygments_lexer": "ipython3",
   "version": "3.11.5"
  }
 },
 "nbformat": 4,
 "nbformat_minor": 5
}
