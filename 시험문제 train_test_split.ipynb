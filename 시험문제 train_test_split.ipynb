{
 "cells": [
  {
   "cell_type": "code",
   "execution_count": 41,
   "metadata": {},
   "outputs": [],
   "source": [
    "import numpy as np\n",
    "import pandas as pd\n",
    "import requests\n",
    "from bs4 import BeautifulSoup\n",
    "import matplotlib.pyplot as plt\n",
    "import seaborn as sns\n",
    "from sklearn.model_selection import GridSearchCV\n",
    "from sklearn.model_selection import train_test_split\n",
    "\n",
    "#---------------------------------\n",
    "\n",
    "from sklearn.metrics import f1_score, precision_score, recall_score"
   ]
  },
  {
   "cell_type": "code",
   "execution_count": 15,
   "metadata": {},
   "outputs": [
    {
     "data": {
      "text/plain": [
       "' 1번 문제 '"
      ]
     },
     "execution_count": 15,
     "metadata": {},
     "output_type": "execute_result"
    }
   ],
   "source": [
    "''' 1번 문제 '''\n",
    "\n",
    "\n",
    "# 각자의 구글 드라이브 폴더에 있는 중고차 가격 데이터(used_car_df2_label.csv)를 이용하여\n",
    "# DataFrame 자료형 데이터를 생성한 후 sklearn 라이브러리를 이용하여 70:30 비율로 \n",
    "# 학습용 데이터와 평가용 데이터 분할하고, 결과 값 중에서 X_train, X_test를 출력한 후 \n",
    "# 모니터 화면을 캡처하여 아래 적용 내용 칸에 붙여넣가 하시오."
   ]
  },
  {
   "cell_type": "code",
   "execution_count": 27,
   "metadata": {},
   "outputs": [],
   "source": [
    "''' 풀이 '''\n",
    "\n",
    "\n",
    "\n"
   ]
  },
  {
   "cell_type": "code",
   "execution_count": null,
   "metadata": {},
   "outputs": [],
   "source": [
    "''' 2번 문제'''\n",
    "\n",
    "# 중고차 가격 데이터에 대해서 70:30 비율로 분할하여 생성한 학습용 데이터를 이용하여 \n",
    "# RandomForest 회귀모델을 학습한 후 평가용 데이터에 대해서 가격을 예측하고, 모델의 성능을\n",
    "# 평균제곱오차(mse : mean squred error)를 이용하여 평가하고 그 결과 값을 출력한 후\n",
    "# 모니터 화면을 캡처하여 아래 적용 내용 칸에 붙여넣기 하시오."
   ]
  },
  {
   "cell_type": "code",
   "execution_count": null,
   "metadata": {},
   "outputs": [],
   "source": [
    "''' 풀이 '''"
   ]
  },
  {
   "cell_type": "code",
   "execution_count": null,
   "metadata": {},
   "outputs": [],
   "source": [
    "''' 3번 문제'''\n",
    "\n",
    "# 중고차 가격 데이터에 대해서 70:30 비율로 분할하여 생성한 학습용 데이터를 이용하여\n",
    "# LightGBM 회귀모델을 학습한 후 평가용 데이터에 대해서 가격을 예측하고, 모델의 성능을\n",
    "# 평균제곱오차(mse : mean squred error)를 이용하여 평가하고 그 결과 값을 출력한 후,\n",
    "# 모니터 화면을 캡처하여 아래 적용 내용 칸에 붙여넣기 하시오."
   ]
  },
  {
   "cell_type": "code",
   "execution_count": null,
   "metadata": {},
   "outputs": [],
   "source": [
    "''' 풀이 '''\n",
    "\n"
   ]
  }
 ],
 "metadata": {
  "kernelspec": {
   "display_name": "base",
   "language": "python",
   "name": "python3"
  },
  "language_info": {
   "codemirror_mode": {
    "name": "ipython",
    "version": 3
   },
   "file_extension": ".py",
   "mimetype": "text/x-python",
   "name": "python",
   "nbconvert_exporter": "python",
   "pygments_lexer": "ipython3",
   "version": "3.11.5"
  }
 },
 "nbformat": 4,
 "nbformat_minor": 2
}
